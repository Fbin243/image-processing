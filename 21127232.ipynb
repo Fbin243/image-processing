{
 "cells": [
  {
   "cell_type": "markdown",
   "metadata": {},
   "source": [
    "## Import modules"
   ]
  },
  {
   "cell_type": "code",
   "execution_count": null,
   "metadata": {},
   "outputs": [],
   "source": [
    "from PIL import Image\n",
    "import numpy as np\n",
    "import matplotlib.pyplot as plt"
   ]
  },
  {
   "cell_type": "markdown",
   "metadata": {},
   "source": [
    "### 1. Increase / Descrease brightness of image"
   ]
  },
  {
   "cell_type": "code",
   "execution_count": null,
   "metadata": {},
   "outputs": [],
   "source": [
    "def adjust_brightness(img_arr, scalar):\n",
    "    img_res = img_arr + scalar\n",
    "    return np.clip(img_res, 0, 255)"
   ]
  },
  {
   "cell_type": "markdown",
   "metadata": {},
   "source": [
    "### 2. Adjust contrast of image"
   ]
  },
  {
   "cell_type": "code",
   "execution_count": null,
   "metadata": {},
   "outputs": [],
   "source": [
    "def adjust_contrast(img_arr, scalar):\n",
    "    img_res = img_arr * scalar\n",
    "    return np.clip(img_res, 0, 255)"
   ]
  },
  {
   "cell_type": "markdown",
   "metadata": {},
   "source": [
    "### 3. Flip image horizontally / vertically"
   ]
  },
  {
   "cell_type": "code",
   "execution_count": null,
   "metadata": {},
   "outputs": [],
   "source": [
    "def flip(img_arr, direction):\n",
    "    if direction == 'horizontal':\n",
    "        return img_arr[:, ::-1]\n",
    "    elif direction == 'vertical':\n",
    "        return img_arr[::-1]"
   ]
  },
  {
   "cell_type": "markdown",
   "metadata": {},
   "source": [
    "### 4. Convert to gray / sepia image"
   ]
  },
  {
   "cell_type": "code",
   "execution_count": null,
   "metadata": {},
   "outputs": [],
   "source": [
    "def convert_gray_image(img_arr):\n",
    "    img_res = np.copy(img_arr)\n",
    "    if img_arr.shape[-1] == 4:\n",
    "        img_res = np.delete(img_res, 3, axis=2)\n",
    "    img_res = np.apply_along_axis(np.mean, 2, img_res)\n",
    "    img_res = img_res.reshape(img_res.shape + (1,))\n",
    "    return img_res"
   ]
  },
  {
   "cell_type": "code",
   "execution_count": null,
   "metadata": {},
   "outputs": [],
   "source": [
    "def convert_sepia_image(img_arr):\n",
    "    img_res = np.copy(img_arr)\n",
    "    img_res[:, :, 0] = 0.393 * img_arr[:, :, 0] + 0.769 * img_arr[:, :, 1] + 0.189 * img_arr[:, :, 2]\n",
    "    img_res[:, :, 1] = 0.349 * img_arr[:, :, 0] + 0.686 * img_arr[:, :, 1] + 0.168 * img_arr[:, :, 2]\n",
    "    img_res[:, :, 2] = 0.272 * img_arr[:, :, 0] + 0.534 * img_arr[:, :, 1] + 0.131 * img_arr[:, :, 2]\n",
    "    return np.clip(img_res, 0, 255)"
   ]
  },
  {
   "cell_type": "markdown",
   "metadata": {},
   "source": [
    "### 5. Blur /Sharpen image"
   ]
  },
  {
   "cell_type": "code",
   "execution_count": null,
   "metadata": {},
   "outputs": [],
   "source": [
    "def get_pixel(img_arr, i, j):\n",
    "    n = img_arr.shape[0] \n",
    "    if i < 0 or j < 0 or i >= n or j >= n:\n",
    "        return np.zeros(img_arr.shape[-1])\n",
    "    return img_arr[i][j]"
   ]
  },
  {
   "cell_type": "code",
   "execution_count": null,
   "metadata": {},
   "outputs": [],
   "source": [
    "def calculate_convo_pixel(img_arr, kernel, i, j):\n",
    "    matrix = []\n",
    "    for _i in range(i - 1, i + 2):\n",
    "        for _j in range(j - 1, j + 2):\n",
    "            matrix.append(get_pixel(img_arr, _i, _j))\n",
    "    matrix = np.array(matrix).reshape((3, 3, img_arr.shape[-1]))\n",
    "    kernel = kernel.reshape(kernel.shape + (1,))\n",
    "    return np.sum(np.sum(matrix * kernel, axis=0), axis=0)"
   ]
  },
  {
   "cell_type": "code",
   "execution_count": null,
   "metadata": {},
   "outputs": [],
   "source": [
    "def do_convolution(img_arr, kernel):\n",
    "    n = img_arr.shape[0]\n",
    "    img_res = np.zeros(img_arr.shape)\n",
    "    for i in range(n):\n",
    "        for j in range(n):\n",
    "            img_res[i][j] = calculate_convo_pixel(img_arr, kernel, i, j)\n",
    "    return img_res"
   ]
  },
  {
   "cell_type": "code",
   "execution_count": null,
   "metadata": {},
   "outputs": [],
   "source": [
    "def blur(img_arr):\n",
    "    kernel = np.array(1/16*np.array([[1, 2, 1], [2, 4, 2], [1, 2, 1]]))\n",
    "    return np.clip(do_convolution(img_arr, kernel), 0, 255)"
   ]
  },
  {
   "cell_type": "code",
   "execution_count": null,
   "metadata": {},
   "outputs": [],
   "source": [
    "def sharpen(img_arr):\n",
    "    kernel = np.array(np.array([[0, -1, 0], [-1, 5, -1], [0, -1, 0]]))\n",
    "    return np.clip((do_convolution(img_arr, kernel)), 0, 255)"
   ]
  },
  {
   "cell_type": "markdown",
   "metadata": {},
   "source": [
    "### 6. Crop image to a specific size (center)"
   ]
  },
  {
   "cell_type": "code",
   "execution_count": null,
   "metadata": {},
   "outputs": [],
   "source": [
    "def crop(img_arr, size=100):\n",
    "    size = min(size, img_arr.shape[0]) // 2\n",
    "    center = img_arr.shape[0] // 2\n",
    "    img_res = img_arr[center-size:center+size,center-size:center+size]\n",
    "    return img_res"
   ]
  },
  {
   "cell_type": "markdown",
   "metadata": {},
   "source": [
    "### 7. Crop image with circle frame"
   ]
  },
  {
   "cell_type": "code",
   "execution_count": null,
   "metadata": {},
   "outputs": [],
   "source": [
    "def calc_dist_to_center(r, i, j):\n",
    "    return np.sqrt((i-r)**2 + (j-r)**2)"
   ]
  },
  {
   "cell_type": "code",
   "execution_count": null,
   "metadata": {},
   "outputs": [],
   "source": [
    "def crop_circle_frame(img_arr):\n",
    "    n = img_arr.shape[0]\n",
    "    r = n // 2\n",
    "    img_res = np.copy(img_arr)\n",
    "    for i in range(n):\n",
    "        j = 0\n",
    "        while calc_dist_to_center(r, i, j) > r and j < n:\n",
    "            img_res[i][j] = np.zeros(img_arr.shape[-1])\n",
    "            if img_arr.shape[-1] == 4:\n",
    "                img_res[i][j][-1] = 255\n",
    "            j += 1\n",
    "        j = n - 1\n",
    "        while calc_dist_to_center(r, i, j) > r and j >= 0:\n",
    "            img_res[i][j] = np.zeros(img_arr.shape[-1])\n",
    "            if img_arr.shape[-1] == 4:\n",
    "                img_res[i][j][-1] = 255\n",
    "            j -= 1\n",
    "    return img_res"
   ]
  },
  {
   "cell_type": "markdown",
   "metadata": {},
   "source": [
    "### 8. Crop image with two crossovering ellipses "
   ]
  },
  {
   "cell_type": "code",
   "execution_count": null,
   "metadata": {},
   "outputs": [],
   "source": [
    "def find_focus(n):\n",
    "    a = n * np.sqrt(2) / 2 - n / 10\n",
    "    b = np.sqrt(n**2 / 2 - a**2)\n",
    "    c = np.sqrt(a**2 - b**2)\n",
    "    foci1 = np.round(n / 2 - c / np.sqrt(2))\n",
    "    foci2 = n - 1 - foci1\n",
    "    return np.array([foci1, foci2]), 2*a"
   ]
  },
  {
   "cell_type": "code",
   "execution_count": null,
   "metadata": {},
   "outputs": [],
   "source": [
    "def sum_dist_to_focus(focus, i, j, main_diag):\n",
    "    if(main_diag):\n",
    "        return np.sum(\n",
    "            np.sqrt((i - focus[0]) ** 2 + (j - focus[0]) ** 2)\n",
    "            + np.sqrt((i - focus[1]) ** 2 + (j - focus[1]) ** 2)\n",
    "        )\n",
    "    else:\n",
    "        return np.sum(\n",
    "        np.sqrt((i - focus[0]) ** 2 + (j - focus[1]) ** 2)\n",
    "        + np.sqrt((i - focus[1]) ** 2 + (j - focus[0]) ** 2)\n",
    "    )"
   ]
  },
  {
   "cell_type": "code",
   "execution_count": null,
   "metadata": {},
   "outputs": [],
   "source": [
    "def crop_ellipses_crossover(img_arr):\n",
    "    n = img_arr.shape[0]\n",
    "    focus, main_axis_len = find_focus(n)\n",
    "    img_res = np.copy(img_arr)\n",
    "    for i in range(n):\n",
    "        j = 0\n",
    "        while sum_dist_to_focus(focus, i, j, True) > main_axis_len and sum_dist_to_focus(focus, i, j, False) > main_axis_len and j < n:\n",
    "            img_res[i][j] = np.zeros(img_arr.shape[-1])\n",
    "            if img_arr.shape[-1] == 4:\n",
    "                img_res[i][j][-1] = 255\n",
    "            j+=1\n",
    "        j = n // 2\n",
    "        while sum_dist_to_focus(focus, i, j, True) > main_axis_len and sum_dist_to_focus(focus, i, j, False) > main_axis_len and j < n:\n",
    "            img_res[i][j] = np.zeros(img_arr.shape[-1])\n",
    "            if img_arr.shape[-1] == 4:\n",
    "                img_res[i][j][-1] = 255\n",
    "            j+=1\n",
    "        j = n // 2\n",
    "        while sum_dist_to_focus(focus, i, j, True) > main_axis_len and sum_dist_to_focus(focus, i, j, False) > main_axis_len and j >= 0:\n",
    "            img_res[i][j] = np.zeros(img_arr.shape[-1])\n",
    "            if img_arr.shape[-1] == 4:\n",
    "                img_res[i][j][-1] = 255\n",
    "            j -= 1\n",
    "        j = n - 1\n",
    "        while sum_dist_to_focus(focus, i, j, True) > main_axis_len and sum_dist_to_focus(focus, i, j, False) > main_axis_len and j >= 0:\n",
    "            img_res[i][j] = np.zeros(img_arr.shape[-1])\n",
    "            if img_arr.shape[-1] == 4:\n",
    "                img_res[i][j][-1] = 255\n",
    "            j -= 1\n",
    "    return img_res"
   ]
  },
  {
   "cell_type": "markdown",
   "metadata": {},
   "source": [
    "## Print menu for choosing a function "
   ]
  },
  {
   "cell_type": "code",
   "execution_count": null,
   "metadata": {},
   "outputs": [],
   "source": [
    "def print_menu_and_choose():\n",
    "    print(\"\"\"\n",
    "    _____________________MENU________________________\n",
    "    | 0. Do all functions below                     |\n",
    "    | 1. Increase/Descrease brightness of image     |\n",
    "    | 2. Adjust contrast of image                   |\n",
    "    | 3. Flip image                                 |\n",
    "    | 4. Convert to gray/sepia image                |\n",
    "    | 5. Blur/Sharpen image                         |\n",
    "    | 6. Crop image at center                       |\n",
    "    | 7. Crop image with circle frame               |\n",
    "    | 8. Crop image with two crossovering ellipses  |\n",
    "    |_______________________________________________|\n",
    "    \"\"\")\n",
    "    return int(input(\"Please look at the menu in below ouput and Enter your choice between (0 - 8): \"))"
   ]
  },
  {
   "cell_type": "markdown",
   "metadata": {},
   "source": [
    "## Print and save image to output file"
   ]
  },
  {
   "cell_type": "code",
   "execution_count": null,
   "metadata": {},
   "outputs": [],
   "source": [
    "def print_and_save_img(img_origin, img_name, img_output, choice, subchoice=0):\n",
    "    choice -= 1\n",
    "    img_output_postfix = [['brighten', 'darken'], ['contrast'], ['horizontal_flip', 'vertical_flip'], ['grayscale', 'sepia'], ['blur', 'sharpen'], ['crop_center'], ['crop_circle'], ['crop_ellipses']]\n",
    "    img_name = img_name.split('.')\n",
    "    # Check for grayscale image\n",
    "    if img_output.shape[-1] == 1:\n",
    "        img_output = img_output.reshape(img_output.shape[:2])\n",
    "    # --------------- Print image -------------------\n",
    "    _, axis = plt.subplots(1, 2, figsize=(8, 4))\n",
    "    # Input image\n",
    "    if img_origin.shape[-1] == 1:\n",
    "        axis[0].set_title('Image_grayscale')\n",
    "        axis[0].imshow(img_origin.astype('uint8'), cmap='gray', vmin=0, vmax=255)\n",
    "    else: \n",
    "        axis[0].set_title('Image_origin')\n",
    "        axis[0].imshow(img_origin.astype('uint8'))\n",
    "    # Output image\n",
    "    axis[1].set_title(f'Image_{img_output_postfix[choice][subchoice]}')\n",
    "    if len(img_output.shape) == 2:\n",
    "        axis[1].imshow(img_output.astype('uint8'), cmap=\"gray\", vmin=0, vmax=255)\n",
    "    else: \n",
    "        axis[1].imshow(img_output.astype('uint8'))\n",
    "    # --------------- Save image -------------------\n",
    "    Image.fromarray(img_output.astype('uint8')).save(f'{img_name[0]}_{img_output_postfix[choice][subchoice]}.{img_name[1]}')"
   ]
  },
  {
   "cell_type": "markdown",
   "metadata": {},
   "source": [
    "## Main function "
   ]
  },
  {
   "cell_type": "code",
   "execution_count": null,
   "metadata": {},
   "outputs": [],
   "source": [
    "def main():\n",
    "    # Open image and convert it into np array\n",
    "    img_name = input('Name of img: ')\n",
    "    img = Image.open(img_name)\n",
    "    img_arr = np.array(img).astype(\"float\")\n",
    "    print(\"Image name: \", img_name)\n",
    "    print(\"Image matrix shape: \", img_arr.shape)\n",
    "    choice = print_menu_and_choose()\n",
    "    \"\"\"\n",
    "    Processing img by predefined functions \n",
    "    *************************************\n",
    "    \"\"\"\n",
    "    if choice == 1 or choice == 0:\n",
    "        # 1. Increase and Descrease brightness of image\n",
    "        img_brighten = adjust_brightness(img_arr, 50)\n",
    "        img_darken = adjust_brightness(img_arr, -50)\n",
    "        print_and_save_img(img_arr, img_name, img_brighten, 1)\n",
    "        print_and_save_img(img_arr, img_name, img_darken, 1, 1)\n",
    "    if choice == 2 or choice == 0:\n",
    "        # 2. Adjust contrast of image\n",
    "        img_contrast = adjust_contrast(img_arr, 1.5)\n",
    "        print_and_save_img(img_arr, img_name, img_contrast, 2)\n",
    "    if choice == 3 or choice == 0:\n",
    "        # 3. Flip image\n",
    "        opt = int(input(\"Enter 1 - horizonal or 2 - vertical: \"))\n",
    "        if(opt == 1):\n",
    "            img_flip_hor = flip(img_arr, \"horizontal\")\n",
    "            print_and_save_img(img_arr, img_name, img_flip_hor, 3)\n",
    "        else: \n",
    "            img_flip_ver = flip(img_arr, \"vertical\")\n",
    "            print_and_save_img(img_arr, img_name, img_flip_ver, 3, 1)\n",
    "    if choice == 4 or choice == 0:\n",
    "        # 4. Convert to gray / sepia image\n",
    "        img_gray = convert_gray_image(img_arr)\n",
    "        img_sepia = convert_sepia_image(img_arr)\n",
    "        print_and_save_img(img_arr, img_name, img_gray, 4)\n",
    "        print_and_save_img(img_arr, img_name, img_sepia, 4, 1)\n",
    "    if choice == 5 or choice == 0:\n",
    "        # 5. Blur / Sharpen image\n",
    "        img_gray = convert_gray_image(img_arr)\n",
    "        img_blur = blur(img_gray)\n",
    "        img_sharpen = sharpen(img_gray)\n",
    "        print_and_save_img(img_gray, img_name, img_blur, 5)\n",
    "        print_and_save_img(img_blur, img_name, img_sharpen, 5, 1)\n",
    "    if choice == 6 or choice == 0:\n",
    "        # 6. Crop image center\n",
    "        img_crop = crop(img_arr, 250)\n",
    "        print_and_save_img(img_arr, img_name, img_crop, 6)\n",
    "    if choice == 7 or choice == 0:\n",
    "        # 7. Crop image with circle frame\n",
    "        img_crop_circle = crop_circle_frame(img_arr)\n",
    "        print_and_save_img(img_arr, img_name, img_crop_circle, 7)\n",
    "    if choice == 8 or choice == 0:\n",
    "        # 8. Crop image with two crossovering ellipses \n",
    "        img_crop_ellipses = crop_ellipses_crossover(img_arr)\n",
    "        print_and_save_img(img_arr, img_name, img_crop_ellipses, 8)\n",
    "    \"\"\" \n",
    "    *******************************************\n",
    "    \"\"\"\n",
    "main()"
   ]
  }
 ],
 "metadata": {
  "kernelspec": {
   "display_name": "base",
   "language": "python",
   "name": "python3"
  },
  "language_info": {
   "codemirror_mode": {
    "name": "ipython",
    "version": 3
   },
   "file_extension": ".py",
   "mimetype": "text/x-python",
   "name": "python",
   "nbconvert_exporter": "python",
   "pygments_lexer": "ipython3",
   "version": "3.10.9"
  },
  "orig_nbformat": 4
 },
 "nbformat": 4,
 "nbformat_minor": 2
}
